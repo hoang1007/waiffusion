{
 "cells": [
  {
   "cell_type": "code",
   "execution_count": null,
   "metadata": {},
   "outputs": [],
   "source": [
    "!pip install -r requirements.txt"
   ]
  }
 ],
 "metadata": {
  "kernelspec": {
   "display_name": "hoang",
   "language": "python",
   "name": "python3"
  },
  "language_info": {
   "name": "python",
   "version": "3.10.9"
  },
  "orig_nbformat": 4,
  "vscode": {
   "interpreter": {
    "hash": "d32fd20a849988a457c524a8e6bb8c3ad25eed0c09d27a2ed1e7335a456dc06d"
   }
  }
 },
 "nbformat": 4,
 "nbformat_minor": 2
}
