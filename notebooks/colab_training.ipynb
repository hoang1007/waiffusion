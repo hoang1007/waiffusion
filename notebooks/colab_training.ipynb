{
  "cells": [
    {
      "cell_type": "code",
      "source": [
        "!git clone https://github.com/hoang1007/waiffusion.git\n",
        "%cd waiffusion"
      ],
      "metadata": {
        "id": "gyF6Yb9Fo5hP"
      },
      "execution_count": null,
      "outputs": []
    },
    {
      "cell_type": "code",
      "execution_count": null,
      "metadata": {
        "id": "0iYvYXF7ouW7"
      },
      "outputs": [],
      "source": [
        "%%capture\n",
        "!pip install -r requirements.txt wandb"
      ]
    },
    {
      "cell_type": "code",
      "source": [
        "!python src/train.py experiment=đpm_mnist trainer=gpu logger=wandb"
      ],
      "metadata": {
        "id": "YS_bK5lvo48k"
      },
      "execution_count": null,
      "outputs": []
    }
  ],
  "metadata": {
    "kernelspec": {
      "display_name": "hoang",
      "language": "python",
      "name": "python3"
    },
    "language_info": {
      "name": "python",
      "version": "3.10.9"
    },
    "orig_nbformat": 4,
    "vscode": {
      "interpreter": {
        "hash": "d32fd20a849988a457c524a8e6bb8c3ad25eed0c09d27a2ed1e7335a456dc06d"
      }
    },
    "colab": {
      "provenance": []
    }
  },
  "nbformat": 4,
  "nbformat_minor": 0
}